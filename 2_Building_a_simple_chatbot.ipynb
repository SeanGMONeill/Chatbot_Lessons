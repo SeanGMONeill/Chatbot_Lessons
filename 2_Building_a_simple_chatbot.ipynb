{
  "nbformat": 4,
  "nbformat_minor": 0,
  "metadata": {
    "colab": {
      "name": "2_Building_a_simple_chatbot.ipynb",
      "provenance": [],
      "collapsed_sections": [],
      "include_colab_link": true
    },
    "kernelspec": {
      "name": "python3",
      "display_name": "Python 3"
    },
    "language_info": {
      "name": "python"
    }
  },
  "cells": [
    {
      "cell_type": "markdown",
      "metadata": {
        "id": "view-in-github",
        "colab_type": "text"
      },
      "source": [
        "<a href=\"https://colab.research.google.com/github/SeanGMONeill/Chatbot_Lessons/blob/main/2_Building_a_simple_chatbot.ipynb\" target=\"_parent\"><img src=\"https://colab.research.google.com/assets/colab-badge.svg\" alt=\"Open In Colab\"/></a>"
      ]
    },
    {
      "cell_type": "markdown",
      "source": [
        "# Building a chatbot"
      ],
      "metadata": {
        "id": "pPk7Uilowbxp"
      }
    },
    {
      "cell_type": "markdown",
      "source": [
        "This project will let you explore different ways in which you can build chatbots - virtual messaging partners who can answer questions on specific topics, or even have general conversations, in plain English."
      ],
      "metadata": {
        "id": "slZe44EVwhLD"
      }
    },
    {
      "cell_type": "markdown",
      "source": [
        "### Part 1 - The old-fashioned way\n"
      ],
      "metadata": {
        "id": "u76VAgtUxjGS"
      }
    },
    {
      "cell_type": "markdown",
      "source": [
        "In the software world, there are often different ways to approach the same problem.\n",
        "In this first approach, you'll build a chatbot by writing your own hard-coded logic.\n",
        "\n",
        "You'll be doing this in Python, within a Jupyter notebook. Don't worry if you've never used Python - the core concepts are similar to many other programming languages.\n",
        "\n",
        "Here's a snippet of code to get you started - take some time to understand what it does:"
      ],
      "metadata": {
        "id": "QKEvqaWoyRIg"
      }
    },
    {
      "cell_type": "code",
      "source": [
        "# Initialize the run variable to True\n",
        "run = True\n",
        "\n",
        "# While run is still True, loop through the rest of the script\n",
        "while run:\n",
        "  # Wait for the user to input text, and store it in the msg variable\n",
        "  msg = input()\n",
        "  # Give a response, based on the input (if we recognise it)\n",
        "  if msg == 'exit':\n",
        "    print('Goodbye!')\n",
        "    # Set run to False, so the loop won't run again\n",
        "    # This means we won't be trapped in an infinite loop\n",
        "    run = False\n",
        "  elif msg == 'Hello':\n",
        "    print('Hi!')\n",
        "  # If the input doesn't match any of our statements, print a generic answer\n",
        "  else:\n",
        "    print('Sorry, I don\\'t understand')"
      ],
      "metadata": {
        "colab": {
          "base_uri": "https://localhost:8080/"
        },
        "id": "1ZzNxqYbynVu",
        "outputId": "f8f053b4-21cd-40e4-9266-f84d5304eaf7"
      },
      "execution_count": null,
      "outputs": [
        {
          "output_type": "stream",
          "name": "stdout",
          "text": [
            "Hello\n",
            "Hi!\n",
            "yo\n",
            "Sorry, I don't understand\n",
            "exit\n",
            "Goodbye!\n"
          ]
        }
      ]
    },
    {
      "cell_type": "markdown",
      "source": [
        "**Press the Play button in the cell above to try it out**\n",
        "\n",
        "If you break the 'exit' condition of your script, press *Runtime -> Interrupt Execution* to halt the script\n"
      ],
      "metadata": {
        "id": "dqy3Da7f1ium"
      }
    },
    {
      "cell_type": "markdown",
      "source": [
        "## Exercises\n",
        "\n",
        "Try adding your own case to the chatbot code - copy the 'Hello' segment, and make it respond to 'How are you?'\n",
        "\n",
        "\n",
        "\n",
        "### Case Sensitive\n",
        "\n",
        "\n",
        "Can you see any drawbacks to the approach we're using so far?\n",
        "\n",
        "\n",
        "\n",
        "Notice that this script will only recognize a phrase if the user types it exactly the same way.\n",
        "\n",
        "We can help them a little by running our msg through an in-built Python function, *str.lower()* - this converts the string into a lowercase string, so we can compare it to other lowercase strings, as demonstrated in the cells below.\n",
        "\n"
      ],
      "metadata": {
        "id": "PYf5DkjO2b7g"
      }
    },
    {
      "cell_type": "code",
      "source": [
        ""
      ],
      "metadata": {
        "id": "02yBGAeft7G7"
      },
      "execution_count": null,
      "outputs": []
    },
    {
      "cell_type": "code",
      "source": [
        "msg = 'Hello'\n",
        "print(msg)\n",
        "print(msg == 'hello')"
      ],
      "metadata": {
        "colab": {
          "base_uri": "https://localhost:8080/"
        },
        "id": "IQpCA5HU4U2u",
        "outputId": "b23b53f9-270b-48f9-cde2-24bc71c5938d"
      },
      "execution_count": null,
      "outputs": [
        {
          "output_type": "stream",
          "name": "stdout",
          "text": [
            "Hello\n",
            "False\n"
          ]
        }
      ]
    },
    {
      "cell_type": "code",
      "source": [
        "msg = 'Hello'\n",
        "msg = msg.lower()\n",
        "print(msg)\n",
        "print(msg == 'hello')"
      ],
      "metadata": {
        "colab": {
          "base_uri": "https://localhost:8080/"
        },
        "id": "q_4Z5dIm4joL",
        "outputId": "401e9c3e-e354-4d18-e479-47bbeb320095"
      },
      "execution_count": null,
      "outputs": [
        {
          "output_type": "stream",
          "name": "stdout",
          "text": [
            "hello\n",
            "True\n"
          ]
        }
      ]
    },
    {
      "cell_type": "markdown",
      "source": [
        "Try converting the input to lowercase in your code up above."
      ],
      "metadata": {
        "id": "uPz_E6lk5ENY"
      }
    },
    {
      "cell_type": "markdown",
      "source": [
        "### Keywords"
      ],
      "metadata": {
        "id": "Oosgg8IuBXbf"
      }
    },
    {
      "cell_type": "markdown",
      "source": [
        "There's still another drawback! The user still needs to enter the exact wording that the programmer used, otherwise the program won't understand what they're saying.\n",
        "\n",
        "One way to help with this is to look for words within the input, using Python's 'in' keyword."
      ],
      "metadata": {
        "id": "2rxzcOF5AbGf"
      }
    },
    {
      "cell_type": "code",
      "source": [
        "msg = 'What is the weather like?'\n",
        "msg = msg.lower()\n",
        "print(msg == 'weather')"
      ],
      "metadata": {
        "colab": {
          "base_uri": "https://localhost:8080/"
        },
        "id": "-2SlrsHqBVVJ",
        "outputId": "7e213e32-a7d3-417f-b19f-b77858f028d3"
      },
      "execution_count": null,
      "outputs": [
        {
          "output_type": "stream",
          "name": "stdout",
          "text": [
            "False\n"
          ]
        }
      ]
    },
    {
      "cell_type": "code",
      "source": [
        "msg = 'What is the weather like?'\n",
        "msg = msg.lower()\n",
        "print('weather' in msg)"
      ],
      "metadata": {
        "colab": {
          "base_uri": "https://localhost:8080/"
        },
        "id": "VKzy2lyhBKWa",
        "outputId": "e25b7c3e-94c3-4cee-ebb5-3ecf78ce0a2d"
      },
      "execution_count": null,
      "outputs": [
        {
          "output_type": "stream",
          "name": "stdout",
          "text": [
            "True\n"
          ]
        }
      ]
    },
    {
      "cell_type": "markdown",
      "source": [
        "Try updating your script to use this to reply to the user with 'I love rain!' if they mention 'rain' anywhere in their message."
      ],
      "metadata": {
        "id": "pkWC1HRdC2N8"
      }
    },
    {
      "cell_type": "markdown",
      "source": [
        "### Tokenization"
      ],
      "metadata": {
        "id": "lIfz119KD2Zs"
      }
    },
    {
      "cell_type": "markdown",
      "source": [
        "Congratulations, you've just introduced a new issue!\n",
        "\n",
        "Now, the script will reply to a message which contains the word 'rain', even if that word is in the middle of another word:"
      ],
      "metadata": {
        "id": "lJyvmoVDD519"
      }
    },
    {
      "cell_type": "code",
      "source": [
        "msg = 'I think it\\'s going to rain'\n",
        "msg = msg.lower()\n",
        "print('rain' in msg)"
      ],
      "metadata": {
        "id": "7i0eZTzaEUkL"
      },
      "execution_count": null,
      "outputs": []
    },
    {
      "cell_type": "code",
      "source": [
        "msg = 'I strained the pasta'\n",
        "msg = msg.lower()\n",
        "print('rain' in msg)"
      ],
      "metadata": {
        "colab": {
          "base_uri": "https://localhost:8080/"
        },
        "id": "x2atTXxGECpx",
        "outputId": "28e9909c-e84e-4d81-d568-08365078f13b"
      },
      "execution_count": null,
      "outputs": [
        {
          "output_type": "stream",
          "name": "stdout",
          "text": [
            "True\n"
          ]
        }
      ]
    },
    {
      "cell_type": "markdown",
      "source": [
        "Notice that there is 'rain' in 'st**rain**ed'\n",
        "\n",
        "This will lead to some confusing answers, when someone talking about pasta receives replies about the weather.\n",
        "\n",
        "We can solve this by using a Natural Language Processing (NLP) technique called *Tokenization* - splitting a phrase into a list of smaller chunks.\n",
        "\n",
        "\n",
        "One approach to tokenization is splitting it into words - the simplest way to do this (though imperfect) is to split on spaces."
      ],
      "metadata": {
        "id": "uaJ-RWmrEtUQ"
      }
    },
    {
      "cell_type": "code",
      "source": [
        "msg = 'I strained the pasta'\n",
        "msg = msg.lower()\n",
        "tokens = msg.split(' ') # Splitting on the space character\n",
        "print(tokens)"
      ],
      "metadata": {
        "colab": {
          "base_uri": "https://localhost:8080/"
        },
        "id": "MUS5Wzx3Gf8u",
        "outputId": "aa3268b3-c672-4581-f3be-893fcd619c33"
      },
      "execution_count": null,
      "outputs": [
        {
          "output_type": "stream",
          "name": "stdout",
          "text": [
            "['i', 'strained', 'the', 'pasta']\n"
          ]
        }
      ]
    },
    {
      "cell_type": "markdown",
      "source": [
        "*str.split(separator)* splits a string into a list of strings, splitting wherever it sees the separator - in our case, the space character\n",
        "\n",
        "We can also move our pre-processing into a function, for tidiness"
      ],
      "metadata": {
        "id": "m-ue1bVNGoJn"
      }
    },
    {
      "cell_type": "code",
      "source": [
        "def tokenize(msg):\n",
        "  msg = msg.lower()\n",
        "  tokens = msg.split(' ')\n",
        "  return tokens"
      ],
      "metadata": {
        "id": "y9IgTUfUHMig"
      },
      "execution_count": null,
      "outputs": []
    },
    {
      "cell_type": "markdown",
      "source": [
        "And we can check if a word appears in the list of tokens, using the *in* keyword again"
      ],
      "metadata": {
        "id": "uEezAcCtHUJh"
      }
    },
    {
      "cell_type": "code",
      "source": [
        "msg = 'I think it\\'s going to rain'\n",
        "tokens = tokenize(msg)\n",
        "print(tokens)\n",
        "print('rain in msg? ')\n",
        "print('rain' in msg)\n",
        "print('rain in tokens?')\n",
        "print('rain' in tokens)"
      ],
      "metadata": {
        "colab": {
          "base_uri": "https://localhost:8080/"
        },
        "id": "zH-BfsvPHZFO",
        "outputId": "a1c72acf-0046-487c-964a-5166fdbbe7c1"
      },
      "execution_count": null,
      "outputs": [
        {
          "output_type": "stream",
          "name": "stdout",
          "text": [
            "['i', 'think', \"it's\", 'going', 'to', 'rain']\n",
            "rain in msg? \n",
            "True\n",
            "rain in tokens?\n",
            "True\n"
          ]
        }
      ]
    },
    {
      "cell_type": "code",
      "source": [
        "msg = 'I strained the pasta'\n",
        "tokens = tokenize(msg)\n",
        "print(tokens)\n",
        "print('rain in msg? ')\n",
        "print('rain' in msg)\n",
        "print('rain in tokens?')\n",
        "print('rain' in tokens)"
      ],
      "metadata": {
        "colab": {
          "base_uri": "https://localhost:8080/"
        },
        "id": "QTsBTHGgHRVK",
        "outputId": "279da2be-4cf3-45d1-a185-69bf003837fc"
      },
      "execution_count": null,
      "outputs": [
        {
          "output_type": "stream",
          "name": "stdout",
          "text": [
            "['i', 'strained', 'the', 'pasta']\n",
            "rain in msg? \n",
            "True\n",
            "rain in tokens?\n",
            "False\n"
          ]
        }
      ]
    },
    {
      "cell_type": "markdown",
      "source": [
        "This avoids the false positive which we were seeing. Try updating your script to use this technique."
      ],
      "metadata": {
        "id": "cQ77Xw2WIVIi"
      }
    },
    {
      "cell_type": "markdown",
      "source": [
        "### Punctuation - friend or foe?"
      ],
      "metadata": {
        "id": "g3m1e2TZTo6z"
      }
    },
    {
      "cell_type": "markdown",
      "source": [
        "Punctuation is great, and can add a lot of meaning to sentences! But since our current script isn't complicated enough to take it into account, it could just get in the way.\n",
        "\n",
        "For example:"
      ],
      "metadata": {
        "id": "8xVRNAhFT4li"
      }
    },
    {
      "cell_type": "code",
      "source": [
        "msg = 'Did you see that cat?'\n",
        "tokens = tokenize(msg)\n",
        "print(tokens)\n",
        "print('cat' in tokens)"
      ],
      "metadata": {
        "colab": {
          "base_uri": "https://localhost:8080/"
        },
        "id": "ARdZMW2OTqq1",
        "outputId": "0e5f8708-9d9a-4e20-edaa-df6620aefd47"
      },
      "execution_count": null,
      "outputs": [
        {
          "output_type": "stream",
          "name": "stdout",
          "text": [
            "['did', 'you', 'see', 'that', 'cat?']\n",
            "False\n"
          ]
        }
      ]
    },
    {
      "cell_type": "markdown",
      "source": [
        "Our token-matcher isn't recognising the word 'cat', because it's been tokenized with a question mark at the end (as 'cat?').\n",
        "\n",
        "This is where removing punctuation could sometimes be helpful - we can choose certain symbols to remove using this function - try to understand what it does:"
      ],
      "metadata": {
        "id": "VWRUWfnrUStg"
      }
    },
    {
      "cell_type": "code",
      "source": [
        "def remove_punctuation(msg):\n",
        "  symbols = ['?','-',',',':',';']\n",
        "  for symbol in symbols:\n",
        "    msg = msg.replace(symbol, '')\n",
        "  return msg\n",
        "\n",
        "msg = 'Did you see that cat?'\n",
        "remove_punctuation(msg)"
      ],
      "metadata": {
        "colab": {
          "base_uri": "https://localhost:8080/",
          "height": 37
        },
        "id": "XOsvAhBdUK16",
        "outputId": "fdbc535d-7d35-4809-fee1-aaa5def3037f"
      },
      "execution_count": null,
      "outputs": [
        {
          "output_type": "execute_result",
          "data": {
            "text/plain": [
              "'Did you see that cat'"
            ],
            "application/vnd.google.colaboratory.intrinsic+json": {
              "type": "string"
            }
          },
          "metadata": {},
          "execution_count": 31
        }
      ]
    },
    {
      "cell_type": "markdown",
      "source": [
        "Notice we aren't removing spaces - that's because we're splitting on these, so we want to keep them for tokenization."
      ],
      "metadata": {
        "id": "bPw4wcz3UpHa"
      }
    },
    {
      "cell_type": "code",
      "source": [
        "msg = 'Did you see that cat?'\n",
        "tokens = tokenize(remove_punctuation(msg))\n",
        "print(tokens)\n",
        "print('cat' in tokens)"
      ],
      "metadata": {
        "colab": {
          "base_uri": "https://localhost:8080/"
        },
        "id": "h503ztiFUID1",
        "outputId": "00dd0f49-ab2d-453a-ca83-b3c2ec0ff917"
      },
      "execution_count": null,
      "outputs": [
        {
          "output_type": "stream",
          "name": "stdout",
          "text": [
            "['did', 'you', 'see', 'that', 'cat']\n",
            "True\n"
          ]
        }
      ]
    },
    {
      "cell_type": "markdown",
      "source": [
        "Now we can correctly identify the token 'cat'"
      ],
      "metadata": {
        "id": "8PbOvIUGVVmC"
      }
    },
    {
      "cell_type": "markdown",
      "source": [
        "### Making it more complicated"
      ],
      "metadata": {
        "id": "sFseLuPYRz31"
      }
    },
    {
      "cell_type": "code",
      "source": [
        "elements = {\n",
        "    'earth': 1,\n",
        "    'air': 2,\n",
        "    'fire': 3,\n",
        "    'water': 4\n",
        "}\n",
        "\n",
        "msg = 'What is the chemical symbol for fire'\n",
        "tokens = tokenize(msg)\n",
        "print('symbol' in tokens and len(set(elements).intersection(set(tokens)))> 0)"
      ],
      "metadata": {
        "colab": {
          "base_uri": "https://localhost:8080/"
        },
        "id": "MIYhRQYvR0N-",
        "outputId": "8657930e-fcc4-46fa-c923-bc2da885b00d"
      },
      "execution_count": null,
      "outputs": [
        {
          "output_type": "stream",
          "name": "stdout",
          "text": [
            "True\n"
          ]
        }
      ]
    }
  ]
}